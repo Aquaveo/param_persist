{
 "cells": [
  {
   "cell_type": "markdown",
   "metadata": {},
   "source": [
    "### Remove DB if it Exists\n",
    "In this tutorial we will create a database called example.db. We will use this step to delete it if it has already been created by a past run.\n",
    "\n",
    "We will also set up a helper function that we can use later to show the contents of the database."
   ]
  },
  {
   "cell_type": "code",
   "execution_count": null,
   "metadata": {},
   "outputs": [],
   "source": [
    "import os\n",
    "\n",
    "# Delete the db file if it exists.\n",
    "if os.path.exists('example.db'):\n",
    "    os.remove('example.db')"
   ]
  },
  {
   "cell_type": "code",
   "execution_count": null,
   "metadata": {},
   "outputs": [],
   "source": [
    "def show_database(db_session):\n",
    "    print('----------------------------------------------------------------------------')\n",
    "    print('Instances:')\n",
    "    for parameterized_instance in db_session.query(InstanceModel).all():\n",
    "        print(f'\\t{parameterized_instance}')\n",
    "    \n",
    "    print('Parameters:')\n",
    "    for parameter in db_session.query(ParamModel).all():\n",
    "        print(f'\\t{parameter}\\n\\t\\t{parameter.value}')\n",
    "    print('----------------------------------------------------------------------------')\n",
    "    "
   ]
  },
  {
   "cell_type": "markdown",
   "metadata": {},
   "source": [
    "### Setup DB\n",
    "\n",
    "To demonstrate the use of this library we are going to create a simple file sqlite database. We will create that here and add the connection, transaction and session for later use."
   ]
  },
  {
   "cell_type": "code",
   "execution_count": null,
   "metadata": {},
   "outputs": [],
   "source": [
    "from sqlalchemy import create_engine\n",
    "from sqlalchemy.orm import Session\n",
    "\n",
    "from param_persist.sqlalchemy.models import Base\n",
    "\n",
    "\n",
    "engine = create_engine('sqlite:///example.db')\n",
    "Base.metadata.create_all(engine)\n",
    "\n",
    "connection = engine.connect()\n",
    "transaction = connection.begin()\n",
    "session = Session(bind=connection)"
   ]
  },
  {
   "cell_type": "markdown",
   "metadata": {},
   "source": [
    "### Param Class\n",
    "\n",
    "Here we are setting up a basic param class. This class will be used throughout the example to show how to use the `param_persist` library."
   ]
  },
  {
   "cell_type": "code",
   "execution_count": null,
   "metadata": {},
   "outputs": [],
   "source": [
    "import param\n",
    "import numpy as np\n",
    "\n",
    "class ExampleParamClass(param.Parameterized):\n",
    "    number_field = param.Number(0.5, doc=\"A simple number field.\")\n",
    "    integer_field = param.Integer(1, doc=\"A simple integer field.\")\n",
    "    string_field = param.String(\"My String\", doc=\"A simple string field.\")\n",
    "    bool_field = param.Boolean(False, doc=\"A simple boolean field.\")\n",
    "    list_field = param.List([1,2,3,4], doc=\"A simple list field.\")\n",
    "    "
   ]
  },
  {
   "cell_type": "markdown",
   "metadata": {},
   "source": [
    "### Create Agent\n",
    "\n",
    "First we must create an agent. The agent is the worker for this library. Everything you will do you will do through the agent. Currently there is only an SqlAlchemyAgent. Custom agents can be written by overwrite the `AgentBase` class."
   ]
  },
  {
   "cell_type": "code",
   "execution_count": null,
   "metadata": {},
   "outputs": [],
   "source": [
    "from param_persist.agents.sqlalchemy_agent import SqlAlchemyAgent\n",
    "from param_persist.sqlalchemy.models import InstanceModel, ParamModel\n",
    "\n",
    "agent = SqlAlchemyAgent(engine=engine)"
   ]
  },
  {
   "cell_type": "markdown",
   "metadata": {},
   "source": [
    "### Save a Parameterized Object\n",
    "\n",
    "Next we will demonstrate how to save a paramaterized instance to the database. We will first show the contents of the database to show that the file table is empty. We will then create a parameterized instance that we will be working with and save it to the DB. Finally we will show the database contents again, showing that we have successfully persisted the data from the parameterized instance.\n",
    "\n",
    "**Note:** The save method returns the ID of the instance row in the instances table. This will be used for interacting with that instance using the agent."
   ]
  },
  {
   "cell_type": "code",
   "execution_count": null,
   "metadata": {},
   "outputs": [],
   "source": [
    "# Demonstrate the table is empty\n",
    "show_database(session)\n",
    "\n",
    "# Create a parameterized instance and save it to the database\n",
    "my_param = ExampleParamClass()\n",
    "my_param_id = agent.save(my_param)\n",
    "\n",
    "# Show the data has been persisted\n",
    "show_database(session)\n"
   ]
  },
  {
   "cell_type": "markdown",
   "metadata": {},
   "source": [
    "### Update a Paramterized Object\n",
    "\n",
    "Here we will use the ID that we were given from the Save method to update the data in the database after changing the parameterized instance. We will first update some fields of the parameterized instance, then use the agents `update` method to update the database.\n",
    "\n",
    "**NOTE:** We will update both `number_field` and `bool_field`. When the database is shown you will see the changes made to those fields."
   ]
  },
  {
   "cell_type": "code",
   "execution_count": null,
   "metadata": {},
   "outputs": [],
   "source": [
    "# Update the parameterized instance\n",
    "my_param.number_field = 2.2\n",
    "my_param.bool_field = True\n",
    "my_param.list_field = [2,3,5,6,7]\n",
    "\n",
    "# Use the agents update method\n",
    "agent.update(my_param, my_param_id)\n",
    "\n",
    "# Show the changed values in the database tables\n",
    "show_database(session)"
   ]
  },
  {
   "cell_type": "markdown",
   "metadata": {},
   "source": [
    "### Load Parameterized Object\n",
    "\n",
    "In the next example we will show how to load a parameterized instance from the database using the agents `load` method using the `instance_id` saved in the database. Here we will create a new object using the `load` method and then show the values match what was saved in the above examples."
   ]
  },
  {
   "cell_type": "code",
   "execution_count": null,
   "metadata": {},
   "outputs": [],
   "source": [
    "# Load the param from the database\n",
    "new_loaded_param = agent.load(my_param_id)\n",
    "\n",
    "# Show the values\n",
    "print(f'{new_loaded_param.bool_field} == True')\n",
    "print(f'{new_loaded_param.number_field} == 2.2')\n",
    "print(f'{new_loaded_param.integer_field} == 1')\n",
    "print(f'{new_loaded_param.string_field} == My String')\n",
    "print(f'{new_loaded_param.list_field} == [2,3,4,5,7]')"
   ]
  },
  {
   "cell_type": "markdown",
   "metadata": {},
   "source": [
    "### Delete Parameterized Object\n",
    "\n",
    "Finally we will show how to remove an instance from the database using the agents `delete` method. We will first show the database has values. Then we will use the `param_id` we have been using through the examples to delete the instance. Then we will show the database is empty.\n",
    "\n",
    "**Note:** Deleting the instance will delete all of the parameters that it is linked too."
   ]
  },
  {
   "cell_type": "code",
   "execution_count": null,
   "metadata": {},
   "outputs": [],
   "source": [
    "# Show the database has data\n",
    "show_database(session)\n",
    "\n",
    "# Delete the parameterized instance from the database\n",
    "agent.delete(my_param_id)\n",
    "\n",
    "# Show the database is empty\n",
    "show_database(session)"
   ]
  },
  {
   "cell_type": "code",
   "execution_count": null,
   "metadata": {},
   "outputs": [],
   "source": []
  }
 ],
 "metadata": {
  "kernelspec": {
   "display_name": "Python 3",
   "language": "python",
   "name": "python3"
  },
  "language_info": {
   "codemirror_mode": {
    "name": "ipython",
    "version": 3
   },
   "file_extension": ".py",
   "mimetype": "text/x-python",
   "name": "python",
   "nbconvert_exporter": "python",
   "pygments_lexer": "ipython3",
   "version": "3.7.8"
  }
 },
 "nbformat": 4,
 "nbformat_minor": 4
}
