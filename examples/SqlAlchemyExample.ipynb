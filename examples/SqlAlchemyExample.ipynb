{
 "cells": [
  {
   "cell_type": "markdown",
   "metadata": {},
   "source": [
    "### Remove DB"
   ]
  },
  {
   "cell_type": "code",
   "execution_count": 1,
   "metadata": {},
   "outputs": [],
   "source": [
    "import os\n",
    "\n",
    "if os.path.exists('example.db'):\n",
    "    os.remove('example.db')"
   ]
  },
  {
   "cell_type": "markdown",
   "metadata": {},
   "source": [
    "### Setup DB"
   ]
  },
  {
   "cell_type": "code",
   "execution_count": 2,
   "metadata": {},
   "outputs": [],
   "source": [
    "from sqlalchemy import create_engine\n",
    "from sqlalchemy.orm import Session\n",
    "\n",
    "from param_persist.sqlalchemy.models import Base\n",
    "\n",
    "\n",
    "engine = create_engine('sqlite:///example.db')\n",
    "Base.metadata.create_all(engine)\n",
    "\n",
    "connection = engine.connect()\n",
    "transaction = connection.begin()\n",
    "session = Session(bind=connection)"
   ]
  },
  {
   "cell_type": "markdown",
   "metadata": {},
   "source": [
    "### Param Class"
   ]
  },
  {
   "cell_type": "code",
   "execution_count": 3,
   "metadata": {},
   "outputs": [],
   "source": [
    "import param\n",
    "import numpy as np\n",
    "\n",
    "class ExampleParamClass(param.Parameterized):\n",
    "    number_field = param.Number(0.5, doc=\"A simple number field.\")\n",
    "    integer_field = param.Integer(1, doc=\"A simple integer field.\")\n",
    "    string_field = param.String(\"My String\", doc=\"A simple string field.\")\n",
    "    bool_field = param.Boolean(False, doc=\"A simple boolean field.\")\n",
    "    "
   ]
  },
  {
   "cell_type": "markdown",
   "metadata": {},
   "source": [
    "### Create Agent"
   ]
  },
  {
   "cell_type": "code",
   "execution_count": 4,
   "metadata": {},
   "outputs": [],
   "source": [
    "from param_persist.agents.sqlalchemy_agent import SqlAlchemyAgent\n",
    "from param_persist.sqlalchemy.models import InstanceModel, ParamModel\n",
    "\n",
    "agent = SqlAlchemyAgent(engine=engine)"
   ]
  },
  {
   "cell_type": "code",
   "execution_count": 5,
   "metadata": {},
   "outputs": [],
   "source": [
    "def show_database(db_session):\n",
    "    print('Instances:')\n",
    "    for parameterized_instance in db_session.query(InstanceModel).all():\n",
    "        print(f'\\t{parameterized_instance}')\n",
    "    \n",
    "    print('Parameters:')\n",
    "    for parameter in db_session.query(ParamModel).all():\n",
    "        print(f'\\t{parameter}\\n\\t\\t{parameter.value}')\n",
    "    "
   ]
  },
  {
   "cell_type": "markdown",
   "metadata": {},
   "source": [
    "### Save a Parameterized Object"
   ]
  },
  {
   "cell_type": "code",
   "execution_count": 6,
   "metadata": {},
   "outputs": [
    {
     "name": "stdout",
     "output_type": "stream",
     "text": [
      "Instances:\n",
      "Parameters:\n",
      "Instances:\n",
      "\t<Instance(id=\"b083a24f-f957-432c-a910-417cf1136cae\", class_path=\"__main__.ExampleParamClass\")>\n",
      "Parameters:\n",
      "\t<Param(id=\"fa8205a6-a72c-4f10-9898-5b5864ef7399\", instance_id=\"b083a24f-f957-432c-a910-417cf1136cae\")>\n",
      "\t\t{\"name\": \"bool_field\", \"value\": false, \"type\": \"param.Boolean\"}\n",
      "\t<Param(id=\"d0a0dee4-e267-45fa-b151-9b1cfd7d6f6f\", instance_id=\"b083a24f-f957-432c-a910-417cf1136cae\")>\n",
      "\t\t{\"name\": \"integer_field\", \"value\": 1, \"type\": \"param.Integer\"}\n",
      "\t<Param(id=\"93bb5c1e-be6c-4369-bfb8-2d252b92508e\", instance_id=\"b083a24f-f957-432c-a910-417cf1136cae\")>\n",
      "\t\t{\"name\": \"number_field\", \"value\": 0.5, \"type\": \"param.Number\"}\n",
      "\t<Param(id=\"f7051e3e-75ea-45fa-ab03-ab4db51de235\", instance_id=\"b083a24f-f957-432c-a910-417cf1136cae\")>\n",
      "\t\t{\"name\": \"string_field\", \"value\": \"My String\", \"type\": \"param.parameterized.String\"}\n"
     ]
    }
   ],
   "source": [
    "show_database(session)\n",
    "\n",
    "my_param = ExampleParamClass()\n",
    "my_param_id = agent.save(my_param)\n",
    "\n",
    "show_database(session)\n"
   ]
  },
  {
   "cell_type": "markdown",
   "metadata": {},
   "source": [
    "\n",
    "### Update a Parameterized Object"
   ]
  },
  {
   "cell_type": "code",
   "execution_count": 7,
   "metadata": {},
   "outputs": [
    {
     "name": "stdout",
     "output_type": "stream",
     "text": [
      "Instances:\n",
      "\t<Instance(id=\"b083a24f-f957-432c-a910-417cf1136cae\", class_path=\"__main__.ExampleParamClass\")>\n",
      "Parameters:\n",
      "\t<Param(id=\"fa8205a6-a72c-4f10-9898-5b5864ef7399\", instance_id=\"b083a24f-f957-432c-a910-417cf1136cae\")>\n",
      "\t\t{\"name\": \"bool_field\", \"value\": true, \"type\": \"param.Boolean\"}\n",
      "\t<Param(id=\"d0a0dee4-e267-45fa-b151-9b1cfd7d6f6f\", instance_id=\"b083a24f-f957-432c-a910-417cf1136cae\")>\n",
      "\t\t{\"name\": \"integer_field\", \"value\": 1, \"type\": \"param.Integer\"}\n",
      "\t<Param(id=\"93bb5c1e-be6c-4369-bfb8-2d252b92508e\", instance_id=\"b083a24f-f957-432c-a910-417cf1136cae\")>\n",
      "\t\t{\"name\": \"number_field\", \"value\": 2.2, \"type\": \"param.Number\"}\n",
      "\t<Param(id=\"f7051e3e-75ea-45fa-ab03-ab4db51de235\", instance_id=\"b083a24f-f957-432c-a910-417cf1136cae\")>\n",
      "\t\t{\"name\": \"string_field\", \"value\": \"My String\", \"type\": \"param.parameterized.String\"}\n"
     ]
    }
   ],
   "source": [
    "my_param.number_field = 2.2\n",
    "my_param.bool_field = True\n",
    "\n",
    "agent.update(my_param, my_param_id)\n",
    "\n",
    "show_database(session)"
   ]
  },
  {
   "cell_type": "markdown",
   "metadata": {},
   "source": [
    "### Load Parameterized Object"
   ]
  },
  {
   "cell_type": "code",
   "execution_count": null,
   "metadata": {},
   "outputs": [],
   "source": [
    "my_param_loaded = agent.load(my_param_id)\n",
    "\n",
    "print(my_param_loaded.bool_field)\n",
    "print(my_param_loaded.number_field)\n",
    "print(my_param_loaded.integer_field)\n",
    "print(my_param_loaded.string_field)"
   ]
  },
  {
   "cell_type": "markdown",
   "metadata": {},
   "source": [
    "### Delete Parameterized Object"
   ]
  },
  {
   "cell_type": "code",
   "execution_count": null,
   "metadata": {},
   "outputs": [],
   "source": [
    "show_database(session)\n",
    "agent.delete(my_param_id)\n",
    "show_database(session)"
   ]
  },
  {
   "cell_type": "code",
   "execution_count": null,
   "metadata": {},
   "outputs": [],
   "source": []
  }
 ],
 "metadata": {
  "kernelspec": {
   "display_name": "Python 3",
   "language": "python",
   "name": "python3"
  },
  "language_info": {
   "codemirror_mode": {
    "name": "ipython",
    "version": 3
   },
   "file_extension": ".py",
   "mimetype": "text/x-python",
   "name": "python",
   "nbconvert_exporter": "python",
   "pygments_lexer": "ipython3",
   "version": "3.7.8"
  }
 },
 "nbformat": 4,
 "nbformat_minor": 4
}
